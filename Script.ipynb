{
 "cells": [
  {
   "cell_type": "markdown",
   "metadata": {},
   "source": [
    "### Detecção de Rostos"
   ]
  },
  {
   "cell_type": "code",
   "execution_count": 16,
   "metadata": {},
   "outputs": [],
   "source": [
    "import cv2\n",
    "import imageio as io\n",
    "\n",
    "class Reconhecimento_Facial:\n",
    "    def __init__(self) -> None:\n",
    "        # Isso carrega o classificador em cascata pré-treinado para detecção de rostos. O arquivo XML 'haarcascade_frontalface_default.xml' contém os dados do modelo treinado para detecção de rostos.\n",
    "        self.face_cascade = cv2.CascadeClassifier(cv2.data.haarcascades + 'haarcascade_frontalface_default.xml')\n",
    "        # Atributo de contagem de rostos que aparecem nos Vídeos\n",
    "        self.count_face_video = 0;\n",
    "        # Atributo de contagem de rostos em imagens\n",
    "        self.count_face_img = 0;\n",
    "        # Atributo de comparação de detecção de frame\n",
    "        self.previous_faces = [];\n",
    "\n",
    "    # read_video (param = caminho do vídeo)\n",
    "    def read_video(self, video: str, scaleFactor: int, minNeighbors: int) -> None:\n",
    "        # Define o contador para 0 sempre que a função é chamada\n",
    "        self.count_face_video = 0;\n",
    "\n",
    "        # Para de contar enquanto os os frames detectados são iguais \n",
    "        keep_faces = False\n",
    "\n",
    "        # Abre o Vídeo\n",
    "        cap = cv2.VideoCapture(video)\n",
    "        \n",
    "        while True:\n",
    "            # Ler o próximo frame do video\n",
    "            ret, frame = cap.read()\n",
    "            # Caso não tenha mais frames, o vídeo para\n",
    "            if not ret:\n",
    "                break\n",
    "            \n",
    "            # Converte a imagem a imagem colorida para escala de cinza, que é comum em detecção de rosto.\n",
    "            gray = cv2.cvtColor(frame, cv2.COLOR_BGR2GRAY)\n",
    "            \n",
    "            # Detectar rostos no frame, retortando as coordenadas do retângulos ao redor dos rostos detectados.\n",
    "            faces = self.face_cascade.detectMultiScale(gray, scaleFactor, minNeighbors)\n",
    "            \n",
    "            # Conta quantas vezes foi detectado rostos na tela\n",
    "            if len(faces) != len(self.previous_faces):\n",
    "                self.count_face_video += 1 \n",
    "                \n",
    "            # /\\ mesmo código acima\n",
    "            self.previous_faces = self.face_cascade.detectMultiScale(gray, scaleFactor, minNeighbors)\n",
    "\n",
    "            # Desenhar retângulos ao redor dos rostos detectados\n",
    "            for (x, y, w, h) in faces:\n",
    "                # Desenha um quadrado em volta dos rostos detectados\n",
    "                cv2.rectangle(frame, (x, y), (x+w, y+h), (255, 0, 0), 2)\n",
    "\n",
    "\n",
    "            #Desenha os quadrados no rostos detectados\n",
    "            cv2.imshow('Face Detection', frame)\n",
    "            \n",
    "            # Parar o víeo aperte 'barra de espaço'\n",
    "            if cv2.waitKey(1) & 0xFF == ord('0'):\n",
    "                break\n",
    "        \n",
    "        # Libera o vídeo\n",
    "        cap.release()\n",
    "        # Destroi todas as janelas abertas por esse script\n",
    "        cv2.destroyAllWindows()\n",
    "\n",
    "        print(f'QTD. DE ROSTOS DETECTADOS: {self.count_face_video}')\n",
    "\n",
    "    # Essa função detecta rostos em uma imagem e faz a contagem.\n",
    "    def read_imagem(self, image: str, scaleFactor: int, minNeighbors: int) -> None:\n",
    "        # Sempre que a função é chama o contador é zerado\n",
    "        self.count_face_img = 0;\n",
    "\n",
    "        # Ler a imagem\n",
    "        image = cv2.imread(image)\n",
    "\n",
    "        # Converte o frame para escala de cinza\n",
    "        gray = cv2.cvtColor(image, cv2.COLOR_BGR2GRAY)\n",
    "\n",
    "        # Detecta os rostos no frame atual, Criando uma matriz de cordenadas\n",
    "        faces = self.face_cascade.detectMultiScale(gray, scaleFactor, minNeighbors)\n",
    "        \n",
    "        # Adiciona a quantidade de rostos detectados\n",
    "        self.count_face_img = len(faces)\n",
    "\n",
    "        # X = x plano cartesiano | Y plano cartesiano | W = largura | H = Altura\n",
    "        for(x, y, w, h) in faces:\n",
    "            # Desenha um quadrado em volta dos rostos detectados\n",
    "            cv2.rectangle(image, (x,y), (x+w, y+h), (0,255,0), 2)\n",
    "\n",
    "        print(f'QTD. DE ROSTOS DETECTADOS: {self.count_face_img}')\n",
    "        cv2.imshow('Face Detection', image)\n",
    "        cv2.waitKey(0)\n",
    "        cv2.destroyAllWindows()\n",
    "\n",
    "    def negative_image(self, img: str) -> None:\n",
    "        image = cv2.imread('./chapolin_low_quality.jpeg')\n",
    "        cv2.imshow('Imagem', image)\n",
    "        cv2.waitKey(0)\n",
    "        cv2.destroyAllWindows()\n",
    "        \n",
    "starter = Reconhecimento_Facial()"
   ]
  },
  {
   "cell_type": "code",
   "execution_count": 31,
   "metadata": {},
   "outputs": [
    {
     "name": "stdout",
     "output_type": "stream",
     "text": [
      "169\n"
     ]
    }
   ],
   "source": [
    "starter.read_video('./video6.mp4', 1.3, 5)"
   ]
  },
  {
   "cell_type": "code",
   "execution_count": 17,
   "metadata": {},
   "outputs": [
    {
     "name": "stdout",
     "output_type": "stream",
     "text": [
      "QTD. DE ROSTOS DETECTADOS: 1\n"
     ]
    }
   ],
   "source": [
    "starter.read_imagem('./chapo1.jpg', 1.1, 2)"
   ]
  }
 ],
 "metadata": {
  "kernelspec": {
   "display_name": "venv",
   "language": "python",
   "name": "python3"
  },
  "language_info": {
   "codemirror_mode": {
    "name": "ipython",
    "version": 3
   },
   "file_extension": ".py",
   "mimetype": "text/x-python",
   "name": "python",
   "nbconvert_exporter": "python",
   "pygments_lexer": "ipython3",
   "version": "3.11.9"
  }
 },
 "nbformat": 4,
 "nbformat_minor": 2
}
